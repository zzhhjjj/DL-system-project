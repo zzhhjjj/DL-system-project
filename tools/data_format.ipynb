{
 "cells": [
  {
   "cell_type": "code",
   "execution_count": null,
   "id": "4c5cee59",
   "metadata": {},
   "outputs": [],
   "source": [
    "import json\n",
    "import random"
   ]
  },
  {
   "cell_type": "code",
   "execution_count": 1,
   "id": "84d8372e",
   "metadata": {},
   "outputs": [],
   "source": [
    "input_file_path = \"data/processed/lima/lima_data.jsonl\"\n",
    "output_file_path = \"data/processed/lima/converted_lima_data.jsonl\"\n",
    "\n",
    "# Open the input file and create the output file\n",
    "with open(input_file_path, 'r') as input_file, open(output_file_path, 'w') as output_file:\n",
    "    for line in input_file:\n",
    "        # Load the JSON object from the line\n",
    "        data = json.loads(line)\n",
    "\n",
    "        # Extract user and assistant messages\n",
    "        user_message = next((msg['content'] for msg in data['messages'] if msg['role'] == 'user'), None)\n",
    "        assistant_message = next((msg['content'] for msg in data['messages'] if msg['role'] == 'assistant'), None)\n",
    "\n",
    "        # Check if both messages are present\n",
    "        if user_message and assistant_message:\n",
    "            # Create the new format\n",
    "            new_data = {\n",
    "                \"input\": user_message,\n",
    "                \"output\": assistant_message\n",
    "            }\n",
    "\n",
    "            # Write the new data to the output file\n",
    "            output_file.write(json.dumps(new_data) + '\\n')\n"
   ]
  },
  {
   "cell_type": "code",
   "execution_count": 3,
   "id": "05bad7d6",
   "metadata": {},
   "outputs": [],
   "source": [
    "# File paths\n",
    "input_file_path = \"data/processed/lima/converted_lima_data.jsonl\"\n",
    "training_file_path = \"data/processed/lima/training_set.jsonl\"\n",
    "validation_file_path = \"data/processed/lima/validation_set.jsonl\"\n",
    "\n",
    "# Read the data from the input file\n",
    "with open(input_file_path, 'r') as file:\n",
    "    data = [json.loads(line) for line in file]\n",
    "\n",
    "# Shuffle the data to ensure randomness\n",
    "random.shuffle(data)\n",
    "\n",
    "# Split the data into training and validation sets\n",
    "training_data = data[:1000]\n",
    "validation_data = data[1000:1030]\n",
    "\n",
    "# Write the training data to the training file\n",
    "with open(training_file_path, 'w') as file:\n",
    "    for entry in training_data:\n",
    "        file.write(json.dumps(entry) + '\\n')\n",
    "\n",
    "# Write the validation data to the validation file\n",
    "with open(validation_file_path, 'w') as file:\n",
    "    for entry in validation_data:\n",
    "        file.write(json.dumps(entry) + '\\n')\n"
   ]
  },
  {
   "cell_type": "code",
   "execution_count": null,
   "id": "4954c820",
   "metadata": {},
   "outputs": [],
   "source": []
  },
  {
   "cell_type": "code",
   "execution_count": null,
   "id": "c3d47941",
   "metadata": {},
   "outputs": [],
   "source": []
  },
  {
   "cell_type": "code",
   "execution_count": null,
   "id": "78b527a1",
   "metadata": {},
   "outputs": [],
   "source": []
  }
 ],
 "metadata": {
  "kernelspec": {
   "display_name": "chatpdf",
   "language": "python",
   "name": "chatpdf"
  },
  "language_info": {
   "codemirror_mode": {
    "name": "ipython",
    "version": 3
   },
   "file_extension": ".py",
   "mimetype": "text/x-python",
   "name": "python",
   "nbconvert_exporter": "python",
   "pygments_lexer": "ipython3",
   "version": "3.10.13"
  }
 },
 "nbformat": 4,
 "nbformat_minor": 5
}
